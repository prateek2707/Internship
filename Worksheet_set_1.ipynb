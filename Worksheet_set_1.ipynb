{
 "cells": [
  {
   "cell_type": "markdown",
   "id": "ebdcce48",
   "metadata": {},
   "source": [
    "Factorial of a number."
   ]
  },
  {
   "cell_type": "code",
   "execution_count": 2,
   "id": "78d4447e",
   "metadata": {},
   "outputs": [
    {
     "name": "stdout",
     "output_type": "stream",
     "text": [
      "Input a number to compute the factiorial : 5\n",
      "120\n"
     ]
    }
   ],
   "source": [
    "def factorial(n):\n",
    "    if n == 0:\n",
    "        return 1\n",
    "    else:\n",
    "        return n * factorial(n-1)\n",
    "n=int(input(\"Input a number to compute the factiorial : \"))\n",
    "print(factorial(n))"
   ]
  },
  {
   "cell_type": "markdown",
   "id": "b924171b",
   "metadata": {},
   "source": [
    "Write a python program to find whether a number is prime or composite."
   ]
  },
  {
   "cell_type": "code",
   "execution_count": 3,
   "id": "98ae497a",
   "metadata": {},
   "outputs": [
    {
     "name": "stdout",
     "output_type": "stream",
     "text": [
      "Enter The Number5\n",
      "5 is a Prime number\n"
     ]
    }
   ],
   "source": [
    "number = int(input(\"Enter The Number\"))\n",
    "\n",
    "if number > 1:\n",
    "    for i in range(2,int(number/2)+1):\n",
    "        if (number % i == 0):\n",
    "            print(number, \"is not a Prime Number\")\n",
    "            break\n",
    "    else:\n",
    "        print(number,\"is a Prime number\")\n",
    "# If the number is less than 1 it can't be Prime\n",
    "else:\n",
    "    print(number,\"is not a Prime number\")"
   ]
  },
  {
   "cell_type": "markdown",
   "id": "d632fdca",
   "metadata": {},
   "source": [
    "Write a Python program to get the third side of right-angled triangle from two given sides."
   ]
  },
  {
   "cell_type": "code",
   "execution_count": 5,
   "id": "d091d7ba",
   "metadata": {},
   "outputs": [
    {
     "name": "stdout",
     "output_type": "stream",
     "text": [
      "Enter base: 5\n",
      "Enter height: 6\n",
      "Enter angle: 90\n",
      "Hypotenuse = 7.810249675906654\n"
     ]
    }
   ],
   "source": [
    "import math\n",
    "\n",
    "a = float(input(\"Enter base: \"))\n",
    "b = float(input(\"Enter height: \"))\n",
    "x = float(input(\"Enter angle: \"))\n",
    "\n",
    "c = math.sqrt(a ** 2 + b ** 2)\n",
    "\n",
    "print(\"Hypotenuse =\", c)"
   ]
  },
  {
   "cell_type": "code",
   "execution_count": null,
   "id": "8a30f2f1",
   "metadata": {},
   "outputs": [],
   "source": []
  }
 ],
 "metadata": {
  "kernelspec": {
   "display_name": "Python 3",
   "language": "python",
   "name": "python3"
  },
  "language_info": {
   "codemirror_mode": {
    "name": "ipython",
    "version": 3
   },
   "file_extension": ".py",
   "mimetype": "text/x-python",
   "name": "python",
   "nbconvert_exporter": "python",
   "pygments_lexer": "ipython3",
   "version": "3.8.8"
  }
 },
 "nbformat": 4,
 "nbformat_minor": 5
}
